{
 "cells": [
  {
   "cell_type": "code",
   "execution_count": 3,
   "id": "8d82dec5",
   "metadata": {},
   "outputs": [],
   "source": [
    "def irange(*args):\n",
    "    \"\"\"\n",
    "    An inclusive version of range.\n",
    "    Can be used with 1, 2, or 3 arguments.\n",
    "    \"\"\"\n",
    "    if len(args) == 0:\n",
    "        raise TypeError(\"inclusive_range expected at least 1 argument, got 0\")\n",
    "    elif len(args) == 1:\n",
    "        start, stop, step = 0, args[0], 1\n",
    "    elif len(args) == 2:\n",
    "        start, stop, step = args[0], args[1], 1\n",
    "    elif len(args) == 3:\n",
    "        start, stop, step = args\n",
    "    else:\n",
    "        raise TypeError(f\"inclusive_range expected at most 3 arguments, got {len(args)}\")\n",
    "    \n",
    "    # Modify stop value to make it inclusive\n",
    "    if step > 0:\n",
    "        stop += 1\n",
    "    else:\n",
    "        stop -= 1\n",
    "\n",
    "    return range(start, stop, step)\n",
    "\n",
    "def swap_elements(lst, index1, index2):\n",
    "    \"\"\"\n",
    "    Swap elements in the list at the given indices.\n",
    "\n",
    "    Args:\n",
    "    - lst (list): The list of elements.\n",
    "    - index1 (int): The index of the first element to swap.\n",
    "    - index2 (int): The index of the second element to swap.\n",
    "\n",
    "    Returns:\n",
    "    - list: The list with swapped elements.\n",
    "    \"\"\"\n",
    "    if index1 < 0 or index1 >= len(lst) or index2 < 0 or index2 >= len(lst):\n",
    "        raise ValueError(\"Index out of range\")\n",
    "\n",
    "    lst[index1], lst[index2] = lst[index2], lst[index1]\n",
    "    return lst\n",
    "\n",
    "\n",
    "import networkx as nx\n",
    "import matplotlib.pyplot as plt\n",
    "\n",
    "# Python function to draw a KMP automaton based on a given FAIL vector and pattern\n",
    "\n",
    "import matplotlib.pyplot as plt\n",
    "import networkx as nx\n",
    "\n",
    "def draw_kmp_automaton(fail, pattern):\n",
    "    # Create a directed graph\n",
    "    G = nx.DiGraph()\n",
    "\n",
    "    # Add nodes for each state including the final state and the special \"?\" state\n",
    "    G.add_nodes_from(range(len(fail) + 1))\n",
    "    G.add_node('?')\n",
    "\n",
    "    # Add forward edges based on the given pattern\n",
    "    for i, char in enumerate(pattern):\n",
    "        G.add_edge(i, i + 1, label=char)\n",
    "\n",
    "    # Add the final state with a double-line border and green background\n",
    "    G.nodes[len(fail)]['style'] = 'filled,double'\n",
    "    G.nodes[len(fail)]['fillcolor'] = 'lightgreen'\n",
    "\n",
    "    # Add backward edges based on the FAIL vector\n",
    "    for i, f in enumerate(fail):\n",
    "        if f != -1:\n",
    "            # Use arcs to avoid overlap of backward edges\n",
    "            if i == 2:\n",
    "                # From state 2 to 0 (underneath)\n",
    "                rad = -0.5\n",
    "            elif i == 3:\n",
    "                # From state 3 to 1 (over the top)\n",
    "                rad = 0.7\n",
    "            elif i == 4:\n",
    "                # From state 4 to 2 (underneath)\n",
    "                rad = -0.7\n",
    "            else:\n",
    "                # Alternate the rest for clarity\n",
    "                rad = 0.3 if i % 2 == 0 else -0.3\n",
    "            G.add_edge(i, f, connectionstyle=f'arc3,rad={rad}')\n",
    "        else:\n",
    "            # Add an edge for FAIL[i] == -1 leading to the \"?\" state\n",
    "            G.add_edge(i, '?', connectionstyle='arc3,rad=-0.5')\n",
    "\n",
    "    # Specify the layout of the nodes\n",
    "    pos = {i: (i, 0) for i in range(len(fail) + 1)}\n",
    "    pos['?'] = (-1, 0)  # Place the \"?\" state to the left\n",
    "\n",
    "    # Create the plot\n",
    "    plt.figure(figsize=(15, 5))\n",
    "\n",
    "    # Draw the nodes\n",
    "    nx.draw_networkx_nodes(G, pos, node_size=700, node_color='lightblue', edgecolors='black', linewidths=1)\n",
    "    nx.draw_networkx_nodes(G, pos, nodelist=['?'], node_size=700, node_color='white', edgecolors='gray')\n",
    "    nx.draw_networkx_nodes(G, pos, nodelist=[len(fail)], node_size=700, node_color='lightgreen', edgecolors='black', linewidths=2)\n",
    "\n",
    "    # Draw the edges\n",
    "    nx.draw_networkx_edges(G, pos, edgelist=[(u, v) for u, v, d in G.edges(data=True) if 'label' in d],\n",
    "                           arrowstyle='->', arrowsize=15, edge_color='black')\n",
    "    nx.draw_networkx_edges(G, pos, edgelist=[(u, v) for u, v, d in G.edges(data=True) if 'label' not in d],\n",
    "                           connectionstyle='arc3,rad=0.3', arrowstyle='->', arrowsize=15, edge_color='red', style='dashed')\n",
    "\n",
    "    # Draw the labels for the nodes and forward edges\n",
    "    nx.draw_networkx_labels(G, pos, font_size=10, font_weight='bold')\n",
    "    edge_labels = {(u, v): d['label'] for u, v, d in G.edges(data=True) if 'label' in d}\n",
    "    nx.draw_networkx_edge_labels(G, pos, edge_labels=edge_labels)\n",
    "\n",
    "    # Turn off the axis\n",
    "    plt.axis('off')\n",
    "\n",
    "    # Show the plot\n",
    "    plt.show()\n",
    "\n"
   ]
  },
  {
   "cell_type": "markdown",
   "id": "1f2d718c",
   "metadata": {},
   "source": [
    "# Naivní (Brute Force) algoritmus\n",
    "(V textu **t** hledá vzorek **p**)"
   ]
  },
  {
   "cell_type": "code",
   "execution_count": 4,
   "id": "60f77f49",
   "metadata": {},
   "outputs": [],
   "source": [
    "def Match (t, p, tl, pl):\n",
    "    auxStartT = 0\n",
    "    posT = 0\n",
    "    posP = 0\n",
    "    \n",
    "    while posT < tl and posP < pl:\n",
    "        if t[posT] == p[posP]:\n",
    "            posT = posT + 1               ;print(f\"Match {t[posT-1]} at position {posT-1}\")\n",
    "            posP = posP + 1\n",
    "        else:\n",
    "            auxStartT = auxStartT + 1     ;print(f\"NO MATCH {t[posT]} != {p[posP]}\")\n",
    "            posT = auxStartT\n",
    "            posP = 0\n",
    "            \n",
    "    if posP == pl:\n",
    "        return auxStartT     # Nasli jsme\n",
    "    else:\n",
    "        return posT          # Nenasli jsme\n"
   ]
  },
  {
   "cell_type": "code",
   "execution_count": 5,
   "id": "516bd814",
   "metadata": {
    "scrolled": false
   },
   "outputs": [
    {
     "name": "stdout",
     "output_type": "stream",
     "text": [
      "NO MATCH A != k\n",
      "NO MATCH h != k\n",
      "NO MATCH o != k\n",
      "NO MATCH j != k\n",
      "NO MATCH , != k\n",
      "NO MATCH   != k\n",
      "Match k at position 6\n",
      "Match a at position 7\n",
      "Match m at position 8\n",
      "NO MATCH   != o\n",
      "NO MATCH a != k\n",
      "NO MATCH m != k\n",
      "NO MATCH   != k\n",
      "Match k at position 10\n",
      "NO MATCH r != a\n",
      "NO MATCH r != k\n",
      "NO MATCH a != k\n",
      "NO MATCH c != k\n",
      "NO MATCH i != k\n",
      "NO MATCH s != k\n",
      "NO MATCH ? != k\n",
      "NO MATCH   != k\n",
      "NO MATCH A != k\n",
      "NO MATCH h != k\n",
      "NO MATCH o != k\n",
      "NO MATCH j != k\n",
      "NO MATCH , != k\n",
      "NO MATCH   != k\n",
      "Match k at position 24\n",
      "Match a at position 25\n",
      "Match m at position 26\n",
      "Match o at position 27\n",
      "PATTERN kamo FOUND at position 24\n",
      "\n"
     ]
    }
   ],
   "source": [
    "text = \"Ahoj, kam kracis? Ahoj, kamo, jak je?\"\n",
    "ptrn = \"kamo\"\n",
    "\n",
    "text_len = len(text)\n",
    "ptrn_len = len(ptrn)\n",
    "\n",
    "result = Match(text, ptrn, text_len, ptrn_len)\n",
    "\n",
    "if (result == text_len):\n",
    "    print(\"NOT FOUND!\")\n",
    "else:\n",
    "    print(f\"PATTERN {ptrn} FOUND at position {result}\\n\")\n"
   ]
  },
  {
   "cell_type": "markdown",
   "id": "ff512296",
   "metadata": {},
   "source": [
    "### Zhodnocení\n",
    "\n",
    "* Časová složitost:\n",
    "  * Nejlepší případ: **pl** porovnání - vzorek je hned na začátku textu.\n",
    "  * Nejhorší případ: **O(mn)** porovnání - Na každé pozici dojde k (pl-1) shodám, např.:\n",
    "    * P = 'AAA...AB'\n",
    "    * T = 'AAA...AAA'\n",
    "  * **tl** porovnání, pokud symbol p[0] v textu vůbec není.\n",
    "  * Největší problém - **návraty v textu**."
   ]
  },
  {
   "cell_type": "markdown",
   "id": "8754bae7",
   "metadata": {},
   "source": [
    "# KMP"
   ]
  },
  {
   "cell_type": "code",
   "execution_count": 6,
   "id": "17cc331f",
   "metadata": {},
   "outputs": [],
   "source": [
    "def KMPFindFail (p, pl, fail):\n",
    "    fail[0] = -1\n",
    "    for k in irange(1, pl-1):\n",
    "        r = fail[k-1]\n",
    "        while (r >= 0) and (p[r] != p[k-1]):\n",
    "            r = fail[r]\n",
    "        fail[k] = r + 1"
   ]
  },
  {
   "cell_type": "code",
   "execution_count": 12,
   "id": "c5cc9765",
   "metadata": {},
   "outputs": [
    {
     "name": "stdout",
     "output_type": "stream",
     "text": [
      "[-1, 0, 0, 1, 2]\n"
     ]
    },
    {
     "data": {
      "image/png": "[encoded data removed]",
      "text/plain": [
       "<Figure size 1080x360 with 1 Axes>"
      ]
     },
     "metadata": {},
     "output_type": "display_data"
    }
   ],
   "source": [
    "p = \"ABABABCB\"\n",
    "p = \"ABABCB\"\n",
    "p = \"ABABX\"\n",
    "#p = \"ABABAB\"\n",
    "#p = \"KOKOS\"\n",
    "pl = len(p)\n",
    "fail = [-2] * pl\n",
    "\n",
    "KMPFindFail(p, pl, fail)\n",
    "\n",
    "print(fail)\n",
    "draw_kmp_automaton(fail, p)"
   ]
  },
  {
   "cell_type": "code",
   "execution_count": 8,
   "id": "efd4a306",
   "metadata": {},
   "outputs": [],
   "source": [
    "def KMPMatch (t, p, tl, pl, fail):\n",
    "    posT = 0\n",
    "    posP = 0\n",
    "    \n",
    "    while (posT < tl and posP < pl):\n",
    "        if posP < 0:\n",
    "            # Zadna shoda, posun v textu o 1 dopredu\n",
    "            posP = 0                          ;print(f\"POSUN: {t[posT]} -> {t[posT+1]}\")\n",
    "            posT = posT+1\n",
    "        else:\n",
    "            if (t[posT] == p[posP]):\n",
    "                 # Shoda, posun v textu i vzorku\n",
    "                posT = posT + 1               ;print(f\"SHODA: {p[posP]}\")\n",
    "                posP = posP + 1\n",
    "            else:\n",
    "                pass                          ;print(f\"FAIL: {t[posT]} != {p[posP]}\", end=\"\")\n",
    "                # Neshoda, nasleduji zpetnou hranu\n",
    "                posP = fail[posP]             \n",
    "                \n",
    "                if posP == -1:\n",
    "                    print(f\", FAIL je -1, VYZADOVAN NOVY SYMBOL\")\n",
    "                else:\n",
    "                    print(f\", FAIL je {posP}, NAVRAT NA {p[posP]}\")\n",
    "    \n",
    "    if posP == pl:\n",
    "        # Nalezeno, vraci prvni pozici vyskytu vzorku\n",
    "        return posT - pl\n",
    "    else:\n",
    "        # Nenalezeno, vraci hodnotu TL + 1\n",
    "        return posT\n",
    "                "
   ]
  },
  {
   "cell_type": "code",
   "execution_count": 126,
   "id": "6ef40e78",
   "metadata": {},
   "outputs": [
    {
     "name": "stdout",
     "output_type": "stream",
     "text": [
      "[-1, 0, 0, 1, 2]\n"
     ]
    },
    {
     "data": {
      "image/png": "[encoded data removed]",
      "text/plain": [
       "<Figure size 1080x360 with 1 Axes>"
      ]
     },
     "metadata": {},
     "output_type": "display_data"
    },
    {
     "name": "stdout",
     "output_type": "stream",
     "text": [
      "CLANEKOKOKOSU\n",
      "KOKOS\n",
      "=============\n",
      "FAIL: C != K, FAIL je -1, VYZADOVAN NOVY SYMBOL\n",
      "POSUN: C -> L\n",
      "FAIL: L != K, FAIL je -1, VYZADOVAN NOVY SYMBOL\n",
      "POSUN: L -> A\n",
      "FAIL: A != K, FAIL je -1, VYZADOVAN NOVY SYMBOL\n",
      "POSUN: A -> N\n",
      "FAIL: N != K, FAIL je -1, VYZADOVAN NOVY SYMBOL\n",
      "POSUN: N -> E\n",
      "FAIL: E != K, FAIL je -1, VYZADOVAN NOVY SYMBOL\n",
      "POSUN: E -> K\n",
      "SHODA: K\n",
      "SHODA: O\n",
      "SHODA: K\n",
      "SHODA: O\n",
      "FAIL: K != S, FAIL je 2, NAVRAT NA K\n",
      "SHODA: K\n",
      "SHODA: O\n",
      "SHODA: S\n",
      "VZOREK KOKOS NALEZEN na pozici 7\n",
      "\n"
     ]
    }
   ],
   "source": [
    "#t = \"CCABACABABCAABABABCBC\"\n",
    "#p = \"ABABABCB\"\n",
    "\n",
    "t = \"CLANEKOKOKOSU\"\n",
    "p = \"KOKOS\"\n",
    "\n",
    "tl = len(t)\n",
    "pl = len(p)\n",
    "\n",
    "# Create Fail Vector\n",
    "fail = [-2] * pl\n",
    "KMPFindFail(p, pl, fail)\n",
    "print(fail)\n",
    "draw_kmp_automaton(fail, p)\n",
    "\n",
    "\n",
    "print(t)\n",
    "print(p)\n",
    "print(\"=============\")\n",
    "\n",
    "# KMP Match\n",
    "result = KMPMatch(t, p, tl, pl, fail)\n",
    "if (result >= tl):\n",
    "    print(\"VZOREK NEBYL NALEZEN!\")\n",
    "else:\n",
    "    print(f\"VZOREK {p} NALEZEN na pozici {result}\\n\")\n"
   ]
  },
  {
   "cell_type": "markdown",
   "id": "92278ad4",
   "metadata": {},
   "source": [
    "### KMP - zhodnocení\n",
    "* Sestavení vektoru FAIL vyžaduje **2m-3** porovnání. Časová složitost je **lineární**: O(m)\n",
    "* Vyhledávání - **maximálně 2n** porovnání -> **Lineární** O(n)\n",
    "* Celkově lineární: **O(n+m)**\n",
    "* KMP **nejde v textu zpět**.\n",
    "* Empirické studie ukazují, že v běžných (přirozených) jazycích je **zrhuba stejný počet porovnání** jako u naivního algoritmu. Proč?\n",
    "  * Případy, kde naivní algoritmus je tak špatný (jako v ukázce nahoře), jsou velmi málo časté.\n",
    "  * Častějí spíše zjistíme, že na dané pozici v textu se text nemůže nikdy nacházet a jdeme dál..."
   ]
  },
  {
   "cell_type": "markdown",
   "id": "8bff825c",
   "metadata": {},
   "source": [
    "### Můžeme vyhledávat ještě rychleji?\n",
    "* **Společné vlastnosti naivního algoritmu a KMP:**\n",
    "    * **Každý symbol textu** musí být porovnán **alespoň jednou**.\n",
    "        * Je to dáno tím, že vzorek porovnáváme zleva doprava\n",
    "        * I když není shoda, posuneme se o 1 znak a znovu porovnáváme\n",
    "        * Musíme tedy porovnávat každý vzorek\n",
    "* **Lze vyhledávat rychleji?**\n",
    "    * Ano, "
   ]
  },
  {
   "cell_type": "markdown",
   "id": "15999543",
   "metadata": {},
   "source": [
    "# Boyer-Mooreův algoritmus\n",
    "* Snaží se o **větší skoky v textu.**\n",
    "* Vzorky přikládáme k textu klasicky **zleva doprava**.\n",
    "* Jakmile je vzorek přiložen, symboly porovnáváme **zprava doleva**.\n",
    "    * Díky tomu nemusí být některé symboly v textu vůbec porovnávány (lze je přeskočit).\n",
    "* Čím delší je vzorek, tím větší počet znaků je možné přeskočit.\n",
    "\n",
    "## 1. Heuristika (Bad Character Rule)\n",
    "Pokud zjistíme, že:\n",
    "* Máme neshodu - v textu je **jiný symbol** než ve vzorku.\n",
    "* A zároveň tento symbol **ve vzorku vůbec není**.\n",
    "\n",
    "Pak další přiložení dává smysl až **za pozicí tohoto symbolu**. (Nemusíme nic předtím v textu porovnávat)\n",
    "\n",
    "NESHODA - o kolik mohu v textu skočit (o kolik pozic posunout vzorek)?\n",
    "* Symbol se ve vzorku vůbec nenachází - o celkou o délku vzorku **m**\n",
    "* Symbol se ve vzorku nachází a jeho nejpravější výskyt je pozici **k**, pak mohu skočit o **m-1-k** pozic"
   ]
  },
  {
   "cell_type": "code",
   "execution_count": 34,
   "id": "08d43dd0",
   "metadata": {},
   "outputs": [],
   "source": [
    "def ComputeJumps (p):\n",
    "    CharJump = dict()\n",
    "    alphabet = \"ABCDEFGHIJKLMNOPQRSTUVWXYZ\"\n",
    "    \n",
    "    for i in irange(0, len(alphabet)-1):\n",
    "        ch = alphabet[i]\n",
    "        CharJump[ch] = len(p)\n",
    "    \n",
    "    for k in irange(0, len(p)-1):\n",
    "        CharJump[p[k]] = len(p) - 1 - k\n",
    "        \n",
    "    return CharJump"
   ]
  },
  {
   "cell_type": "code",
   "execution_count": 127,
   "id": "1b3fc23a",
   "metadata": {},
   "outputs": [
    {
     "name": "stdout",
     "output_type": "stream",
     "text": [
      "{'A': 5, 'B': 5, 'C': 5, 'D': 5, 'E': 5, 'F': 5, 'G': 5, 'H': 5, 'I': 5, 'J': 5, 'K': 2, 'L': 5, 'M': 5, 'N': 5, 'O': 1, 'P': 5, 'Q': 5, 'R': 5, 'S': 0, 'T': 5, 'U': 5, 'V': 5, 'W': 5, 'X': 5, 'Y': 5, 'Z': 5}\n"
     ]
    }
   ],
   "source": [
    "CharJump = dict()\n",
    "p = \"KOKOS\"\n",
    "#p = \"DABCABCDCB\"\n",
    "#p = \"BABABCDD\"\n",
    "\n",
    "CharJump = ComputeJumps(p)\n",
    "print(CharJump)\n",
    "\n"
   ]
  },
  {
   "cell_type": "markdown",
   "id": "cbf8d0f9",
   "metadata": {},
   "source": [
    "## 2. Heuristika (Good Suffix Rule)"
   ]
  },
  {
   "cell_type": "code",
   "execution_count": 116,
   "id": "1e82fdf4",
   "metadata": {
    "scrolled": false
   },
   "outputs": [
    {
     "name": "stdout",
     "output_type": "stream",
     "text": [
      "[21, 20, 19, 18, 17, 16, 15, 10, 13, 12, 1]\n"
     ]
    }
   ],
   "source": [
    "def ComputeMatchJump(p):\n",
    "    m = len(p)\n",
    "    MatchJump = [m] * m\n",
    "    last_prefix_position = m\n",
    "\n",
    "    for i in range(m - 1, -1, -1):\n",
    "        if is_prefix(p, i + 1):\n",
    "            last_prefix_position = i + 1\n",
    "        MatchJump[i] = last_prefix_position - i + m - 1\n",
    "\n",
    "    for i in range(m - 1):\n",
    "        slen = suffix_length(p, i)\n",
    "        MatchJump[m - 1 - slen] = m - 1 - i + slen\n",
    "\n",
    "    return MatchJump\n",
    "\n",
    "def is_prefix(p, p_index):\n",
    "    m = len(p)\n",
    "    for i in range(p_index, m):\n",
    "        if p[i] != p[i - p_index]:\n",
    "            return False\n",
    "    return True\n",
    "\n",
    "def suffix_length(p, p_index):\n",
    "    length = 0\n",
    "    m = len(p)\n",
    "    for i in range(p_index, -1, -1):\n",
    "        if p[i] == p[m - 1 - length]:\n",
    "            length += 1\n",
    "        else:\n",
    "            break\n",
    "    return length\n",
    "\n",
    "p = \"KOKOS\"\n",
    "p = \"ABAABA\"\n",
    "p = \"BATSANDCATS\"\n",
    "\n",
    "MJ = CMJ (p)\n",
    "print(MJ)"
   ]
  },
  {
   "cell_type": "code",
   "execution_count": 117,
   "id": "a6553eb7",
   "metadata": {},
   "outputs": [],
   "source": [
    "def BMA(p, t):\n",
    "    CharJump = ComputeJumps(p)                            ; print(f\"TEXT: {t}\")\n",
    "    MatchJump = ComputeMatchJump(p)\n",
    "    \n",
    "    posT = len(p) - 1                                     ; ps = 0 ; print(f\"PTRN: {p}\")\n",
    "    posP = len(p) - 1\n",
    "    \n",
    "    while posT < len(t) and posP >= 0:\n",
    "        if t[posT] == p[posP]:\n",
    "            posT = posT - 1\n",
    "            posP = posP - 1\n",
    "        else:\n",
    "            posT = posT + max(CharJump[t[posT]], MatchJump[posP])      \n",
    "            #posT = posT + CharJump[t[posT]]\n",
    "            posP = len(p) - 1                 \n",
    "            \n",
    "            pass                                   ; ps = posT - len(p) + 1\n",
    "            pass                                  ;print(\"PTRN: \", end=\"\"); print(ps * \" \", end=\"\");print(f\"{p}\"); \n",
    "    \n",
    "    if posP < 0:\n",
    "        return posT + 1\n",
    "    else:\n",
    "\n",
    "        return len(t) # +1?"
   ]
  },
  {
   "cell_type": "code",
   "execution_count": 129,
   "id": "35be3576",
   "metadata": {},
   "outputs": [
    {
     "name": "stdout",
     "output_type": "stream",
     "text": [
      "CLANEKOKOKOSU\n",
      "KOKOS\n",
      "=============\n",
      "TEXT: CLANEKOKOKOSU\n",
      "PTRN: KOKOS\n",
      "PTRN:      KOKOS\n",
      "PTRN:        KOKOS\n",
      "VZOREK KOKOS NALEZEN na pozici 7\n",
      "\n"
     ]
    }
   ],
   "source": [
    "t = \"CLANEKOKOKOSU\"\n",
    "p = \"KOKOS\"\n",
    "\n",
    "t = \"BABABADDBABABCDD\"\n",
    "p = \"BABABCDD\"\n",
    "\n",
    "tl = len(t)\n",
    "pl = len(p)\n",
    "\n",
    "\n",
    "print(t)\n",
    "print(p)\n",
    "print(\"=============\")\n",
    "\n",
    "# KMP Match\n",
    "result = BMA(p, t)\n",
    "if (result >= tl):\n",
    "    print(\"VZOREK NEBYL NALEZEN!\")\n",
    "else:\n",
    "    print(f\"VZOREK {p} NALEZEN na pozici {result}\\n\")\n"
   ]
  },
  {
   "cell_type": "code",
   "execution_count": 103,
   "id": "56efd585",
   "metadata": {},
   "outputs": [
    {
     "ename": "TypeError",
     "evalue": "ComputeMatchJump() takes 1 positional argument but 2 were given",
     "output_type": "error",
     "traceback": [
      "\u001b[0;31m---------------------------------------------------------------------------\u001b[0m",
      "\u001b[0;31mTypeError\u001b[0m                                 Traceback (most recent call last)",
      "Input \u001b[0;32mIn [103]\u001b[0m, in \u001b[0;36m<cell line: 37>\u001b[0;34m()\u001b[0m\n\u001b[1;32m     34\u001b[0m p \u001b[38;5;241m=\u001b[39m \u001b[38;5;124m\"\u001b[39m\u001b[38;5;124mABAABA\u001b[39m\u001b[38;5;124m\"\u001b[39m\n\u001b[1;32m     35\u001b[0m MatchJump \u001b[38;5;241m=\u001b[39m [\u001b[38;5;241m-\u001b[39m\u001b[38;5;241m1\u001b[39m] \u001b[38;5;241m*\u001b[39m \u001b[38;5;28mlen\u001b[39m(p)\n\u001b[0;32m---> 37\u001b[0m \u001b[43mComputeMatchJump\u001b[49m\u001b[43m(\u001b[49m\u001b[43mp\u001b[49m\u001b[43m,\u001b[49m\u001b[43m \u001b[49m\u001b[43mMatchJump\u001b[49m\u001b[43m)\u001b[49m\n\u001b[1;32m     38\u001b[0m \u001b[38;5;28mprint\u001b[39m(MatchJump)\n",
      "\u001b[0;31mTypeError\u001b[0m: ComputeMatchJump() takes 1 positional argument but 2 were given"
     ]
    }
   ],
   "source": [
    "## TODO FIX in the future\n",
    "## Attempt to recreate the original version of ComputeMatchJump from IAL materials\n",
    "## Fixed to index from 0, but still not working properly\n",
    "\n",
    "def BROKEN_ComputeMatchJump(P, MatchJump):\n",
    "    backup = [0] * len(P)\n",
    "    m = len(P)\n",
    "    \n",
    "    for k in irange(0, m-1):                          # orig 1..m\n",
    "        MatchJump[k] = 2 * m - k - 1                  # orig 2m-k\n",
    "    \n",
    "    k = m - 1                                         # orig: m\n",
    "    q = m                                             # orig: m+1\n",
    "    \n",
    "    while k >= 0:                                     # orig: k>0\n",
    "        backup[k] = q\n",
    "        while (q < m - 1) and P[k] != P[q]:           # orig: while (q < m) and P[k] != P[q]\n",
    "            MatchJump[q] = min(MatchJump[q], m-k-1)   # orig: m-k\n",
    "            q = backup[q]\n",
    "        k = k-1\n",
    "        q = q-1\n",
    "        \n",
    "    for k in irange(0, q-1):                          # orig: 1..q\n",
    "        MatchJump[k] = min(MatchJump[k], m+q-k-1)     # orig: m+q-k\n",
    "        \n",
    "    qq = backup[q]\n",
    "    \n",
    "    while q < (m - 1):                                 # orig: q<m\n",
    "        while q < qq:\n",
    "            MatchJump[q] = min(MatchJump[q], qq-q+m-1) # orig: qq-q+m\n",
    "            q = q + 1\n",
    "        q = backup[qq]\n",
    "\n",
    "p = \"ABAABA\"\n",
    "MatchJump = [-1] * len(p)\n",
    "\n",
    "ComputeMatchJump(p, MatchJump)\n",
    "print(MatchJump)\n"
   ]
  },
  {
   "cell_type": "code",
   "execution_count": null,
   "id": "4e877685",
   "metadata": {},
   "outputs": [],
   "source": []
  },
  {
   "cell_type": "code",
   "execution_count": null,
   "id": "cc95dae1",
   "metadata": {},
   "outputs": [],
   "source": []
  }
 ],
 "metadata": {
  "kernelspec": {
   "display_name": "Python 3 (ipykernel)",
   "language": "python",
   "name": "python3"
  },
  "language_info": {
   "codemirror_mode": {
    "name": "ipython",
    "version": 3
   },
   "file_extension": ".py",
   "mimetype": "text/x-python",
   "name": "python",
   "nbconvert_exporter": "python",
   "pygments_lexer": "ipython3",
   "version": "3.9.16"
  }
 },
 "nbformat": 4,
 "nbformat_minor": 5
}
